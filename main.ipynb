{
 "cells": [
  {
   "cell_type": "code",
   "execution_count": 1,
   "id": "1ee6b76b",
   "metadata": {},
   "outputs": [],
   "source": [
    "import pandas as pd\n",
    "import matplotlib.pyplot as plt\n",
    "from sklearn.ensemble import RandomForestRegressor\n",
    "\n",
    "%matplotlib inline"
   ]
  },
  {
   "cell_type": "code",
   "execution_count": 2,
   "id": "db2a809b",
   "metadata": {},
   "outputs": [],
   "source": [
    "train_data = pd.read_csv('train.csv')\n",
    "test_data = pd.read_csv('test.csv')"
   ]
  },
  {
   "cell_type": "code",
   "execution_count": 3,
   "id": "8e6d00ed",
   "metadata": {},
   "outputs": [],
   "source": [
    "train_data = train_data.sort_values('Price').fillna(method='pad')\n",
    "test_data = test_data.sort_values('DistrictId').fillna(method='pad')"
   ]
  },
  {
   "cell_type": "code",
   "execution_count": 4,
   "id": "64d31274",
   "metadata": {},
   "outputs": [
    {
     "data": {
      "image/png": "[encoded data removed]",
      "text/plain": [
       "<Figure size 432x288 with 1 Axes>"
      ]
     },
     "metadata": {
      "needs_background": "light"
     },
     "output_type": "display_data"
    }
   ],
   "source": [
    "plt.scatter(train_data.Price, train_data.Square)\n",
    "plt.show()"
   ]
  },
  {
   "cell_type": "code",
   "execution_count": 5,
   "id": "fdd94188",
   "metadata": {},
   "outputs": [],
   "source": [
    "X_train, X_test = pd.get_dummies(train_data), pd.get_dummies(test_data)\n",
    "X_train.drop([\"Price\"], axis=1, inplace=True)\n",
    "X_train.drop(\"Id\", axis=1, inplace=True)\n",
    "X_test.drop(\"Id\", axis=1, inplace=True)"
   ]
  },
  {
   "cell_type": "code",
   "execution_count": 6,
   "id": "d3997347",
   "metadata": {},
   "outputs": [
    {
     "data": {
      "text/plain": [
       "RandomForestRegressor(max_depth=18, max_features=7, n_estimators=1442,\n",
       "                      random_state=42)"
      ]
     },
     "execution_count": 6,
     "metadata": {},
     "output_type": "execute_result"
    }
   ],
   "source": [
    "y_train = train_data.Price\n",
    "\n",
    "model = RandomForestRegressor(n_estimators=1442, max_depth=18, random_state=42, max_features=7)\n",
    "model.fit(X_train, y_train)"
   ]
  },
  {
   "cell_type": "code",
   "execution_count": 7,
   "id": "c74cda49",
   "metadata": {},
   "outputs": [],
   "source": [
    "test_data[\"Price\"] = model.predict(X_test)\n",
    "test_data.loc[:, ['Id', 'Price']].to_csv('predictions.csv', index=False)"
   ]
  }
 ],
 "metadata": {
  "kernelspec": {
   "display_name": "Python 3 (ipykernel)",
   "language": "python",
   "name": "python3"
  },
  "language_info": {
   "codemirror_mode": {
    "name": "ipython",
    "version": 3
   },
   "file_extension": ".py",
   "mimetype": "text/x-python",
   "name": "python",
   "nbconvert_exporter": "python",
   "pygments_lexer": "ipython3",
   "version": "3.9.7"
  }
 },
 "nbformat": 4,
 "nbformat_minor": 5
}
